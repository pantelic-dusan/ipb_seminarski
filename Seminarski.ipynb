{
 "cells": [
  {
   "metadata": {},
   "cell_type": "markdown",
   "source": [
    "### Učitavanje GenBank fajla i parsiranje zapisa\n",
    "Fajl `data/NC_000913.3.gb` preuzet sa https://www.ncbi.nlm.nih.gov/nuccore/NC_000913.3?report=gbwithparts&log$=seqview"
   ],
   "id": "53875531d55ec34"
  },
  {
   "cell_type": "code",
   "id": "initial_id",
   "metadata": {
    "collapsed": true,
    "ExecuteTime": {
     "end_time": "2025-09-24T11:12:45.204952Z",
     "start_time": "2025-09-24T11:12:45.198141Z"
    }
   },
   "source": [
    "from Bio import SeqIO\n",
    "data = SeqIO.parse(\"data/NC_000913.3.gb\", \"genbank\")"
   ],
   "outputs": [],
   "execution_count": 122
  },
  {
   "metadata": {
    "ExecuteTime": {
     "end_time": "2025-09-24T11:12:45.742944Z",
     "start_time": "2025-09-24T11:12:45.209971Z"
    }
   },
   "cell_type": "code",
   "source": "records = [record for record in data]",
   "id": "60527c68505bc0df",
   "outputs": [],
   "execution_count": 123
  },
  {
   "metadata": {
    "ExecuteTime": {
     "end_time": "2025-09-24T11:12:45.752868Z",
     "start_time": "2025-09-24T11:12:45.749466Z"
    }
   },
   "cell_type": "code",
   "source": "print(f'Total records: {len(records)}')",
   "id": "2b70e86e293ec602",
   "outputs": [
    {
     "name": "stdout",
     "output_type": "stream",
     "text": [
      "Total records: 1\n"
     ]
    }
   ],
   "execution_count": 124
  },
  {
   "metadata": {
    "ExecuteTime": {
     "end_time": "2025-09-24T11:12:45.774027Z",
     "start_time": "2025-09-24T11:12:45.760886Z"
    }
   },
   "cell_type": "code",
   "source": [
    "record = records[0]\n",
    "print(record)"
   ],
   "id": "9d57033dd6426fff",
   "outputs": [
    {
     "name": "stdout",
     "output_type": "stream",
     "text": [
      "ID: NC_000913.3\n",
      "Name: NC_000913\n",
      "Description: Escherichia coli str. K-12 substr. MG1655, complete genome\n",
      "Database cross-references: BioProject:PRJNA57779, BioSample:SAMN02604091\n",
      "Number of features: 9285\n",
      "/molecule_type=DNA\n",
      "/topology=circular\n",
      "/data_file_division=CON\n",
      "/date=17-JUL-2025\n",
      "/accessions=['NC_000913']\n",
      "/sequence_version=3\n",
      "/gi=556503834\n",
      "/keywords=['RefSeq']\n",
      "/source=Escherichia coli str. K-12 substr. MG1655\n",
      "/organism=Escherichia coli str. K-12 substr. MG1655\n",
      "/taxonomy=['Bacteria', 'Pseudomonadati', 'Pseudomonadota', 'Gammaproteobacteria', 'Enterobacterales', 'Enterobacteriaceae', 'Escherichia']\n",
      "/references=[Reference(title='Escherichia coli K-12: a cooperatively developed annotation snapshot--2005', ...), Reference(title='Highly accurate genome sequences of Escherichia coli K-12 strains MG1655 and W3110', ...), Reference(title='The complete genome sequence of Escherichia coli K-12', ...), Reference(title='Workshop on Annotation of Escherichia coli K-12', ...), Reference(title='ASAP: Escherichia coli K-12 strain MG1655 version m56', ...), Reference(title='A more accurate sequence comparison between genomes of Escherichia coli K12 W3110 and MG1655 strains', ...), Reference(title='Escherichia coli K-12 MG1655 yqiK-rfaE intergenic region, genomic sequence correction', ...), Reference(title='A manual approach to accurate translation start site annotation: an E. coli K-12 case study', ...), Reference(title='Direct Submission', ...), Reference(title='Direct Submission', ...), Reference(title='Direct Submission', ...), Reference(title='Direct Submission', ...), Reference(title='Direct Submission', ...), Reference(title='Direct Submission', ...), Reference(title='Direct Submission', ...), Reference(title='Direct Submission', ...), Reference(title='Direct Submission', ...), Reference(title='Direct Submission', ...), Reference(title='Direct Submission', ...), Reference(title='Direct Submission', ...)]\n",
      "/comment=REVIEWED REFSEQ: This record has been curated by NCBI staff. The\n",
      "reference sequence is identical to U00096.\n",
      "On Nov 3, 2013 this sequence version replaced NC_000913.2.\n",
      "Protein update by submitter; annotation updates are derived from\n",
      "EcoCyc https://ecocyc.org/.  Suggestions for updates can be sent to\n",
      "biocyc-support@ai.sri.com. This update was generated from a\n",
      "collaboration  that includes EcoCyc, the University of Wisconsin,\n",
      "UniProtKB/Swiss-Prot, and the National Center for Biotechnology\n",
      "Information (NCBI).\n",
      "COMPLETENESS: full length.\n",
      "Seq('AGCTTTTCATTCTGACTGCAACGGGCAATATGTCTCTGTGTGGATTAAAAAAAG...TTC')\n"
     ]
    }
   ],
   "execution_count": 125
  },
  {
   "metadata": {
    "ExecuteTime": {
     "end_time": "2025-09-24T11:12:45.787586Z",
     "start_time": "2025-09-24T11:12:45.783034Z"
    }
   },
   "cell_type": "code",
   "source": [
    "sequence = record.seq\n",
    "print(f'Sequence length: {len(sequence)}')"
   ],
   "id": "8dfd8d359f317176",
   "outputs": [
    {
     "name": "stdout",
     "output_type": "stream",
     "text": [
      "Sequence length: 4641652\n"
     ]
    }
   ],
   "execution_count": 126
  },
  {
   "metadata": {
    "ExecuteTime": {
     "end_time": "2025-09-24T11:12:45.814920Z",
     "start_time": "2025-09-24T11:12:45.802590Z"
    }
   },
   "cell_type": "code",
   "source": [
    "CDS = [feature for feature in record.features if feature.type == 'CDS']\n",
    "print(f'Total CDS: {len(CDS)}')"
   ],
   "id": "9d5b039b545bf61a",
   "outputs": [
    {
     "name": "stdout",
     "output_type": "stream",
     "text": [
      "Total CDS: 4318\n"
     ]
    }
   ],
   "execution_count": 127
  },
  {
   "metadata": {},
   "cell_type": "markdown",
   "source": [
    "### Verifikacija podataka\n",
    "Provera da li su svi CDS-ovi validni:\n",
    "- dužina nukleotidnog niza je deljiva sa 3\n",
    "- koristi se standardna translaciona tabela (11)\n",
    "- postoji anotirana aminokiselinska sekvenca\n",
    "- translacija prati striktna CDS pravila (npr. nema unutrašnjih stop kodona)\n",
    "- prevedena aminokiselinska sekvenca se slaže sa anotiranom"
   ],
   "id": "fa173daa3b7e1dd0"
  },
  {
   "metadata": {
    "ExecuteTime": {
     "end_time": "2025-09-24T12:03:02.865629Z",
     "start_time": "2025-09-24T12:02:56.736324Z"
    }
   },
   "cell_type": "code",
   "source": [
    "verified_cds = []\n",
    "corrupted_cds = []\n",
    "for cds in CDS:\n",
    "    extracted_cds = cds.extract(record)\n",
    "    nucleotide_seq = extracted_cds.seq\n",
    "    nucleotide_sequence_length = len(nucleotide_seq)\n",
    "    protein_id = cds.qualifiers.get('protein_id', [None])[0]\n",
    "    cds_locus_tag = cds.qualifiers.get('locus_tag', [None])[0]\n",
    "    if nucleotide_sequence_length % 3 != 0:\n",
    "        corrupted_cds.append(cds)\n",
    "        print(f'Neispravan CDS na lokusu {cds_locus_tag} za protein {protein_id}:  Dužina sekvence {nucleotide_sequence_length} nije deljiva sa 3!')\n",
    "        continue\n",
    "\n",
    "    translation_table = cds.qualifiers.get('transl_table', [None])[0]\n",
    "\n",
    "    if translation_table != '11':\n",
    "        corrupted_cds.append(cds)\n",
    "        print(f'Neispravan CDS na lokusu {cds_locus_tag} za protein {protein_id}:  Ne koristi standardnu translacionu tabelu: {translation_table}')\n",
    "        continue\n",
    "\n",
    "    aa_annotated = cds.qualifiers.get('translation', [None])[0]\n",
    "    if aa_annotated is None:\n",
    "        corrupted_cds.append(cds)\n",
    "        print(f'Neispravan CDS na lokusu {cds_locus_tag} za protein {protein_id}:  Ne postoji informacija o sekvenci amino kiseline!')\n",
    "        continue\n",
    "    try:\n",
    "        aa_translated = nucleotide_seq.translate(table=translation_table, to_stop=True, cds=True)\n",
    "    except Exception as err:\n",
    "        corrupted_cds.append(cds)\n",
    "        print(f'Neispravan CDS na lokusu {cds_locus_tag} za protein {protein_id}:  Greska prilikom translacije: {err}')\n",
    "        continue\n",
    "\n",
    "    aa_translated = nucleotide_seq.translate(table=translation_table, to_stop=True, cds=True)\n",
    "    if str(aa_translated) != aa_annotated:\n",
    "        corrupted_cds.append(cds)\n",
    "        print(f'Neispravan CDS na lokusu {cds_locus_tag} za protein {protein_id}:  Translacije se ne podudaraju!')\n",
    "        continue\n",
    "\n",
    "    verified_cds.append(cds)"
   ],
   "id": "e308f5f56917dbce",
   "outputs": [
    {
     "name": "stdout",
     "output_type": "stream",
     "text": [
      "Neispravan CDS na lokusu b0240 za protein None:  Ne postoji informacija o sekvenci amino kiseline!\n",
      "Neispravan CDS na lokusu b4587 za protein None:  Ne postoji informacija o sekvenci amino kiseline!\n",
      "Neispravan CDS na lokusu b4579 za protein None:  Ne postoji informacija o sekvenci amino kiseline!\n",
      "Neispravan CDS na lokusu b4580 za protein None:  Ne postoji informacija o sekvenci amino kiseline!\n",
      "Neispravan CDS na lokusu b0542 za protein None:  Ne postoji informacija o sekvenci amino kiseline!\n",
      "Neispravan CDS na lokusu b0553 za protein None:  Ne postoji informacija o sekvenci amino kiseline!\n",
      "Neispravan CDS na lokusu b4570 za protein None:  Ne postoji informacija o sekvenci amino kiseline!\n",
      "Neispravan CDS na lokusu b4492 za protein None:  Ne postoji informacija o sekvenci amino kiseline!\n",
      "Neispravan CDS na lokusu b1474 za protein NP_415991.1:  Greska prilikom translacije: Extra in frame stop codon 'TGA' found.\n",
      "Neispravan CDS na lokusu b4582 za protein None:  Ne postoji informacija o sekvenci amino kiseline!\n",
      "Neispravan CDS na lokusu b4571 za protein None:  Ne postoji informacija o sekvenci amino kiseline!\n",
      "Neispravan CDS na lokusu b4498 za protein None:  Ne postoji informacija o sekvenci amino kiseline!\n",
      "Neispravan CDS na lokusu b2190 za protein None:  Ne postoji informacija o sekvenci amino kiseline!\n",
      "Neispravan CDS na lokusu b3046 za protein None:  Ne postoji informacija o sekvenci amino kiseline!\n",
      "Neispravan CDS na lokusu b4569 za protein None:  Ne postoji informacija o sekvenci amino kiseline!\n",
      "Neispravan CDS na lokusu b3443 za protein None:  Ne postoji informacija o sekvenci amino kiseline!\n",
      "Neispravan CDS na lokusu b3504 za protein None:  Ne postoji informacija o sekvenci amino kiseline!\n",
      "Neispravan CDS na lokusu b3894 za protein NP_418330.1:  Greska prilikom translacije: Extra in frame stop codon 'TGA' found.\n",
      "Neispravan CDS na lokusu b4079 za protein NP_418503.1:  Greska prilikom translacije: Extra in frame stop codon 'TGA' found.\n",
      "Neispravan CDS na lokusu b4583 za protein None:  Dužina sekvence 839 nije deljiva sa 3!\n",
      "Neispravan CDS na lokusu b4623 za protein None:  Ne postoji informacija o sekvenci amino kiseline!\n"
     ]
    }
   ],
   "execution_count": 131
  },
  {
   "metadata": {
    "ExecuteTime": {
     "end_time": "2025-09-24T12:03:24.143626Z",
     "start_time": "2025-09-24T12:03:24.140012Z"
    }
   },
   "cell_type": "code",
   "source": [
    "print(f'Ukupan broj ispravnih CDS-ova: {len(verified_cds)}')\n",
    "print(f'Ukupan broj CDS-ova sa greškom: {len(corrupted_cds)}')"
   ],
   "id": "c0989493d8683779",
   "outputs": [
    {
     "name": "stdout",
     "output_type": "stream",
     "text": [
      "Ukupan broj ispravnih CDS-ova: 4297\n",
      "Ukupan broj CDS-ova sa greškom: 21\n"
     ]
    }
   ],
   "execution_count": 132
  },
  {
   "metadata": {
    "ExecuteTime": {
     "end_time": "2025-09-24T11:15:46.407424Z",
     "start_time": "2025-09-24T11:15:46.405470Z"
    }
   },
   "cell_type": "code",
   "source": "",
   "id": "d39e896a67a2d2ad",
   "outputs": [],
   "execution_count": null
  },
  {
   "metadata": {},
   "cell_type": "code",
   "outputs": [],
   "execution_count": null,
   "source": "",
   "id": "2ddfe297a9d2708"
  }
 ],
 "metadata": {
  "kernelspec": {
   "display_name": "Python 3",
   "language": "python",
   "name": "python3"
  },
  "language_info": {
   "codemirror_mode": {
    "name": "ipython",
    "version": 2
   },
   "file_extension": ".py",
   "mimetype": "text/x-python",
   "name": "python",
   "nbconvert_exporter": "python",
   "pygments_lexer": "ipython2",
   "version": "2.7.6"
  }
 },
 "nbformat": 4,
 "nbformat_minor": 5
}
