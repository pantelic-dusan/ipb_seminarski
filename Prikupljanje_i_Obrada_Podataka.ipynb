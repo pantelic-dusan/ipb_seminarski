{
 "cells": [
  {
   "metadata": {},
   "cell_type": "markdown",
   "source": [
    "### Učitavanje GenBank fajla i parsiranje zapisa\n",
    "Fajl `data/NC_000913.3.gb` preuzet sa https://www.ncbi.nlm.nih.gov/nuccore/NC_000913.3?report=gbwithparts&log$=seqview"
   ],
   "id": "53875531d55ec34"
  },
  {
   "cell_type": "code",
   "id": "initial_id",
   "metadata": {
    "collapsed": true,
    "ExecuteTime": {
     "end_time": "2025-09-25T11:01:17.683112Z",
     "start_time": "2025-09-25T11:01:17.676086Z"
    }
   },
   "source": [
    "from Bio import SeqIO\n",
    "data = SeqIO.parse(\"data/NC_000913.3.gb\", \"genbank\")"
   ],
   "outputs": [],
   "execution_count": 16
  },
  {
   "metadata": {
    "ExecuteTime": {
     "end_time": "2025-09-25T11:01:18.650537Z",
     "start_time": "2025-09-25T11:01:18.097612Z"
    }
   },
   "cell_type": "code",
   "source": "records = [record for record in data]",
   "id": "60527c68505bc0df",
   "outputs": [],
   "execution_count": 17
  },
  {
   "metadata": {
    "ExecuteTime": {
     "end_time": "2025-09-25T11:01:18.779631Z",
     "start_time": "2025-09-25T11:01:18.775947Z"
    }
   },
   "cell_type": "code",
   "source": "print(f'Total records: {len(records)}')",
   "id": "2b70e86e293ec602",
   "outputs": [
    {
     "name": "stdout",
     "output_type": "stream",
     "text": [
      "Total records: 1\n"
     ]
    }
   ],
   "execution_count": 18
  },
  {
   "metadata": {
    "ExecuteTime": {
     "end_time": "2025-09-25T11:01:19.216191Z",
     "start_time": "2025-09-25T11:01:19.212121Z"
    }
   },
   "cell_type": "code",
   "source": [
    "record = records[0]\n",
    "print(record)"
   ],
   "id": "9d57033dd6426fff",
   "outputs": [
    {
     "name": "stdout",
     "output_type": "stream",
     "text": [
      "ID: NC_000913.3\n",
      "Name: NC_000913\n",
      "Description: Escherichia coli str. K-12 substr. MG1655, complete genome\n",
      "Database cross-references: BioProject:PRJNA57779, BioSample:SAMN02604091\n",
      "Number of features: 9285\n",
      "/molecule_type=DNA\n",
      "/topology=circular\n",
      "/data_file_division=CON\n",
      "/date=17-JUL-2025\n",
      "/accessions=['NC_000913']\n",
      "/sequence_version=3\n",
      "/gi=556503834\n",
      "/keywords=['RefSeq']\n",
      "/source=Escherichia coli str. K-12 substr. MG1655\n",
      "/organism=Escherichia coli str. K-12 substr. MG1655\n",
      "/taxonomy=['Bacteria', 'Pseudomonadati', 'Pseudomonadota', 'Gammaproteobacteria', 'Enterobacterales', 'Enterobacteriaceae', 'Escherichia']\n",
      "/references=[Reference(title='Escherichia coli K-12: a cooperatively developed annotation snapshot--2005', ...), Reference(title='Highly accurate genome sequences of Escherichia coli K-12 strains MG1655 and W3110', ...), Reference(title='The complete genome sequence of Escherichia coli K-12', ...), Reference(title='Workshop on Annotation of Escherichia coli K-12', ...), Reference(title='ASAP: Escherichia coli K-12 strain MG1655 version m56', ...), Reference(title='A more accurate sequence comparison between genomes of Escherichia coli K12 W3110 and MG1655 strains', ...), Reference(title='Escherichia coli K-12 MG1655 yqiK-rfaE intergenic region, genomic sequence correction', ...), Reference(title='A manual approach to accurate translation start site annotation: an E. coli K-12 case study', ...), Reference(title='Direct Submission', ...), Reference(title='Direct Submission', ...), Reference(title='Direct Submission', ...), Reference(title='Direct Submission', ...), Reference(title='Direct Submission', ...), Reference(title='Direct Submission', ...), Reference(title='Direct Submission', ...), Reference(title='Direct Submission', ...), Reference(title='Direct Submission', ...), Reference(title='Direct Submission', ...), Reference(title='Direct Submission', ...), Reference(title='Direct Submission', ...)]\n",
      "/comment=REVIEWED REFSEQ: This record has been curated by NCBI staff. The\n",
      "reference sequence is identical to U00096.\n",
      "On Nov 3, 2013 this sequence version replaced NC_000913.2.\n",
      "Protein update by submitter; annotation updates are derived from\n",
      "EcoCyc https://ecocyc.org/.  Suggestions for updates can be sent to\n",
      "biocyc-support@ai.sri.com. This update was generated from a\n",
      "collaboration  that includes EcoCyc, the University of Wisconsin,\n",
      "UniProtKB/Swiss-Prot, and the National Center for Biotechnology\n",
      "Information (NCBI).\n",
      "COMPLETENESS: full length.\n",
      "Seq('AGCTTTTCATTCTGACTGCAACGGGCAATATGTCTCTGTGTGGATTAAAAAAAG...TTC')\n"
     ]
    }
   ],
   "execution_count": 19
  },
  {
   "metadata": {
    "ExecuteTime": {
     "end_time": "2025-09-25T11:01:38.635957Z",
     "start_time": "2025-09-25T11:01:38.632368Z"
    }
   },
   "cell_type": "code",
   "source": [
    "sequence = record.seq\n",
    "print(f'Dužina sekvence: {len(sequence)}')"
   ],
   "id": "8dfd8d359f317176",
   "outputs": [
    {
     "name": "stdout",
     "output_type": "stream",
     "text": [
      "Dužina sekvence: 4641652\n"
     ]
    }
   ],
   "execution_count": 21
  },
  {
   "metadata": {
    "ExecuteTime": {
     "end_time": "2025-09-25T11:02:12.121168Z",
     "start_time": "2025-09-25T11:02:12.115949Z"
    }
   },
   "cell_type": "code",
   "source": [
    "CDS = [feature for feature in record.features if feature.type == 'CDS']\n",
    "print(f'Broj CDS-ova: {len(CDS)}')"
   ],
   "id": "9d5b039b545bf61a",
   "outputs": [
    {
     "name": "stdout",
     "output_type": "stream",
     "text": [
      "Broj CDS-ova: 4318\n"
     ]
    }
   ],
   "execution_count": 23
  },
  {
   "metadata": {},
   "cell_type": "markdown",
   "source": [
    "### Verifikacija podataka\n",
    "Provera da li su svi CDS-ovi validni:\n",
    "- dužina nukleotidnog niza je deljiva sa 3\n",
    "- koristi se standardna translaciona tabela (11)\n",
    "- postoji anotirana aminokiselinska sekvenca\n",
    "- translacija prati striktna CDS pravila (npr. nema unutrašnjih stop kodona)\n",
    "- prevedena aminokiselinska sekvenca se slaže sa anotiranom\n",
    "- postoji UniProt identifikator zbog daljih analiza (https://iupred3.elte.hu/)"
   ],
   "id": "fa173daa3b7e1dd0"
  },
  {
   "metadata": {
    "ExecuteTime": {
     "end_time": "2025-09-25T11:03:07.643309Z",
     "start_time": "2025-09-25T11:03:07.637284Z"
    }
   },
   "cell_type": "code",
   "source": [
    "def get_cds_accession(cds):\n",
    "    # Vraca UniProtKB/Swiss-Prot ili UniProtKB/TrEMBL identifikator ako postoji\n",
    "    for db_xref in cds.qualifiers.get('db_xref', []):\n",
    "        if db_xref.startswith('UniProtKB/Swiss-Prot:') or db_xref.startswith('UniProtKB/TrEMBL:'):\n",
    "            return db_xref.split(':')[1]"
   ],
   "id": "56dd94233cb24429",
   "outputs": [],
   "execution_count": 24
  },
  {
   "metadata": {
    "ExecuteTime": {
     "end_time": "2025-09-25T11:03:19.094245Z",
     "start_time": "2025-09-25T11:03:13.099508Z"
    }
   },
   "cell_type": "code",
   "source": [
    "verified_cds = []\n",
    "corrupted_cds = []\n",
    "for cds in CDS:\n",
    "    extracted_cds = cds.extract(record)\n",
    "    nucleotide_seq = extracted_cds.seq\n",
    "    nucleotide_sequence_length = len(nucleotide_seq)\n",
    "    protein_id = cds.qualifiers.get('protein_id', [None])[0]\n",
    "    cds_locus_tag = cds.qualifiers.get('locus_tag', [None])[0]\n",
    "    if nucleotide_sequence_length % 3 != 0:\n",
    "        corrupted_cds.append(cds)\n",
    "        print(f'Neispravan CDS na lokusu {cds_locus_tag} za protein {protein_id}:  Dužina sekvence {nucleotide_sequence_length} nije deljiva sa 3!')\n",
    "        continue\n",
    "\n",
    "    translation_table = cds.qualifiers.get('transl_table', [None])[0]\n",
    "\n",
    "    if translation_table != '11':\n",
    "        corrupted_cds.append(cds)\n",
    "        print(f'Neispravan CDS na lokusu {cds_locus_tag} za protein {protein_id}:  Ne koristi standardnu translacionu tabelu: {translation_table}')\n",
    "        continue\n",
    "\n",
    "    aa_annotated = cds.qualifiers.get('translation', [None])[0]\n",
    "    if aa_annotated is None:\n",
    "        corrupted_cds.append(cds)\n",
    "        print(f'Neispravan CDS na lokusu {cds_locus_tag} za protein {protein_id}:  Ne postoji informacija o sekvenci amino kiseline!')\n",
    "        continue\n",
    "    try:\n",
    "        aa_translated = nucleotide_seq.translate(table=translation_table, to_stop=True, cds=True)\n",
    "    except Exception as err:\n",
    "        corrupted_cds.append(cds)\n",
    "        print(f'Neispravan CDS na lokusu {cds_locus_tag} za protein {protein_id}:  Greska prilikom translacije: {err}')\n",
    "        continue\n",
    "\n",
    "    aa_translated = nucleotide_seq.translate(table=translation_table, to_stop=True, cds=True)\n",
    "    if str(aa_translated) != aa_annotated:\n",
    "        corrupted_cds.append(cds)\n",
    "        print(f'Neispravan CDS na lokusu {cds_locus_tag} za protein {protein_id}:  Translacije se ne podudaraju!')\n",
    "        continue\n",
    "\n",
    "    if get_cds_accession(cds) is None:\n",
    "        corrupted_cds.append(cds)\n",
    "        print(f'Neispravan CDS na lokusu {cds_locus_tag} za protein {protein_id}:  Ne postoji UniProt identifikator!')\n",
    "        continue\n",
    "\n",
    "    verified_cds.append(cds)"
   ],
   "id": "e308f5f56917dbce",
   "outputs": [
    {
     "name": "stdout",
     "output_type": "stream",
     "text": [
      "Neispravan CDS na lokusu b0149 za protein NP_414691.1:  Ne postoji UniProt identifikator!\n",
      "Neispravan CDS na lokusu b0149 za protein YP_010051172.1:  Ne postoji UniProt identifikator!\n",
      "Neispravan CDS na lokusu b0240 za protein None:  Ne postoji informacija o sekvenci amino kiseline!\n",
      "Neispravan CDS na lokusu b4710 za protein YP_009518739.1:  Ne postoji UniProt identifikator!\n",
      "Neispravan CDS na lokusu b4709 za protein YP_009518740.1:  Ne postoji UniProt identifikator!\n",
      "Neispravan CDS na lokusu b4587 za protein None:  Ne postoji informacija o sekvenci amino kiseline!\n",
      "Neispravan CDS na lokusu b4845 za protein YP_013606033.1:  Ne postoji UniProt identifikator!\n",
      "Neispravan CDS na lokusu b4579 za protein None:  Ne postoji informacija o sekvenci amino kiseline!\n",
      "Neispravan CDS na lokusu b4580 za protein None:  Ne postoji informacija o sekvenci amino kiseline!\n",
      "Neispravan CDS na lokusu b0470 za protein NP_415003.1:  Ne postoji UniProt identifikator!\n",
      "Neispravan CDS na lokusu b0484 za protein NP_415017.1:  Ne postoji UniProt identifikator!\n",
      "Neispravan CDS na lokusu b0542 za protein None:  Ne postoji informacija o sekvenci amino kiseline!\n",
      "Neispravan CDS na lokusu b0553 za protein None:  Ne postoji informacija o sekvenci amino kiseline!\n",
      "Neispravan CDS na lokusu b1120 za protein NP_415638.3:  Ne postoji UniProt identifikator!\n",
      "Neispravan CDS na lokusu b4570 za protein None:  Ne postoji informacija o sekvenci amino kiseline!\n",
      "Neispravan CDS na lokusu b4492 za protein None:  Ne postoji informacija o sekvenci amino kiseline!\n",
      "Neispravan CDS na lokusu b1474 za protein NP_415991.1:  Greska prilikom translacije: Extra in frame stop codon 'TGA' found.\n",
      "Neispravan CDS na lokusu b1888 za protein YP_010283911.1:  Ne postoji UniProt identifikator!\n",
      "Neispravan CDS na lokusu b4582 za protein None:  Ne postoji informacija o sekvenci amino kiseline!\n",
      "Neispravan CDS na lokusu b4571 za protein None:  Ne postoji informacija o sekvenci amino kiseline!\n",
      "Neispravan CDS na lokusu b4498 za protein None:  Ne postoji informacija o sekvenci amino kiseline!\n",
      "Neispravan CDS na lokusu b2131 za protein NP_416635.1:  Ne postoji UniProt identifikator!\n",
      "Neispravan CDS na lokusu b2190 za protein None:  Ne postoji informacija o sekvenci amino kiseline!\n",
      "Neispravan CDS na lokusu b4605 za protein YP_009518802.1:  Ne postoji UniProt identifikator!\n",
      "Neispravan CDS na lokusu b4812 za protein YP_010283914.1:  Ne postoji UniProt identifikator!\n",
      "Neispravan CDS na lokusu b2592 za protein NP_417083.1:  Ne postoji UniProt identifikator!\n",
      "Neispravan CDS na lokusu b2592 za protein YP_010051194.1:  Ne postoji UniProt identifikator!\n",
      "Neispravan CDS na lokusu b4610 za protein YP_009518810.1:  Ne postoji UniProt identifikator!\n",
      "Neispravan CDS na lokusu b3046 za protein None:  Ne postoji informacija o sekvenci amino kiseline!\n",
      "Neispravan CDS na lokusu b3168 za protein NP_417637.1:  Ne postoji UniProt identifikator!\n",
      "Neispravan CDS na lokusu b3168 za protein YP_010283915.1:  Ne postoji UniProt identifikator!\n",
      "Neispravan CDS na lokusu b4569 za protein None:  Ne postoji informacija o sekvenci amino kiseline!\n",
      "Neispravan CDS na lokusu b3443 za protein None:  Ne postoji informacija o sekvenci amino kiseline!\n",
      "Neispravan CDS na lokusu b3504 za protein None:  Ne postoji informacija o sekvenci amino kiseline!\n",
      "Neispravan CDS na lokusu b4795 za protein YP_010051208.1:  Ne postoji UniProt identifikator!\n",
      "Neispravan CDS na lokusu b4795 za protein YP_010051209.1:  Ne postoji UniProt identifikator!\n",
      "Neispravan CDS na lokusu b3894 za protein NP_418330.1:  Greska prilikom translacije: Extra in frame stop codon 'TGA' found.\n",
      "Neispravan CDS na lokusu b4079 za protein NP_418503.1:  Greska prilikom translacije: Extra in frame stop codon 'TGA' found.\n",
      "Neispravan CDS na lokusu b4583 za protein None:  Dužina sekvence 839 nije deljiva sa 3!\n",
      "Neispravan CDS na lokusu b4623 za protein None:  Ne postoji informacija o sekvenci amino kiseline!\n",
      "Neispravan CDS na lokusu b4346 za protein NP_418766.4:  Ne postoji UniProt identifikator!\n"
     ]
    }
   ],
   "execution_count": 25
  },
  {
   "metadata": {
    "ExecuteTime": {
     "end_time": "2025-09-25T11:03:21.629872Z",
     "start_time": "2025-09-25T11:03:21.625530Z"
    }
   },
   "cell_type": "code",
   "source": [
    "print(f'Ukupan broj ispravnih CDS-ova: {len(verified_cds)}')\n",
    "print(f'Ukupan broj CDS-ova sa greškom: {len(corrupted_cds)}')"
   ],
   "id": "c0989493d8683779",
   "outputs": [
    {
     "name": "stdout",
     "output_type": "stream",
     "text": [
      "Ukupan broj ispravnih CDS-ova: 4277\n",
      "Ukupan broj CDS-ova sa greškom: 41\n"
     ]
    }
   ],
   "execution_count": 26
  },
  {
   "metadata": {},
   "cell_type": "markdown",
   "source": "### Prikupljanje podataka o neuređenosti delova proteina",
   "id": "843fed590d84fb89"
  },
  {
   "metadata": {},
   "cell_type": "markdown",
   "source": "#### IUpred3 (https://iupred3.elte.hu/) predvidjanje neuređenosti na osnovu uniprot identifikatora putem API-ja",
   "id": "b502a8b9c086e48c"
  },
  {
   "metadata": {
    "ExecuteTime": {
     "end_time": "2025-09-25T11:05:22.634800Z",
     "start_time": "2025-09-25T11:05:22.627631Z"
    }
   },
   "cell_type": "code",
   "source": [
    "import requests\n",
    "\n",
    "def get_disorder_data_iupred3(accession, iupred_type=\"long\"):\n",
    "    url = f\"http://iupred3.elte.hu/iupred3/{iupred_type}/{accession}.json\"\n",
    "    try:\n",
    "        response = requests.get(url)\n",
    "        response.raise_for_status()\n",
    "        result = response.json()\n",
    "\n",
    "        disorder_scores = result['iupred2']\n",
    "\n",
    "        return disorder_scores\n",
    "    except requests.exceptions.RequestException as e:\n",
    "        print(f\"Request error for {accession}: {e}\")\n",
    "        return []\n",
    "    except KeyError as e:\n",
    "        print(f\"JSON parsing error for {accession}: {e}\")\n",
    "        return []"
   ],
   "id": "63e6272e22b22297",
   "outputs": [],
   "execution_count": 28
  },
  {
   "metadata": {},
   "cell_type": "markdown",
   "source": "#### IsUnstruct (http://bioinfo.protres.ru/IsUnstruct/) predvidjanje neuređenosti na osnovu aminokiselinske sekvence putem lokalno instaliranog softvera",
   "id": "7181ee327d86d1ea"
  },
  {
   "metadata": {
    "ExecuteTime": {
     "end_time": "2025-09-25T11:28:49.901786Z",
     "start_time": "2025-09-25T11:28:49.893675Z"
    }
   },
   "cell_type": "code",
   "source": [
    "import subprocess\n",
    "import tempfile\n",
    "import os\n",
    "\n",
    "def windows_to_wsl_path(windows_path):\n",
    "    \"\"\"Convert Windows path to WSL path format\"\"\"\n",
    "    # Convert C:\\path\\to\\file to /mnt/c/path/to/file\n",
    "    if windows_path[1:3] == ':\\\\':\n",
    "        drive_letter = windows_path[0].lower()\n",
    "        rest_of_path = windows_path[3:].replace('\\\\', '/')\n",
    "        return f'/mnt/{drive_letter}/{rest_of_path}'\n",
    "    return windows_path.replace('\\\\', '/')\n",
    "\n",
    "def get_disorder_probabilities_isunstruct(sequence):\n",
    "\n",
    "    if not sequence:\n",
    "        return []\n",
    "\n",
    "    # Create temporary FASTA file\n",
    "    with tempfile.NamedTemporaryFile(mode='w+', delete=False, suffix='.fasta') as temp_file:\n",
    "        temp_file.write(f\">seq\\n{sequence}\\n\")\n",
    "        temp_file_path = temp_file.name\n",
    "\n",
    "    try:\n",
    "        # Convert Windows path to WSL format\n",
    "        binary_path = os.path.join(os.getcwd(), \"software\", \"is_unstruct\", \"IsUnstruct\")\n",
    "        wsl_binary_path = binary_path.replace('C:\\\\', '/mnt/c/').replace('\\\\', '/')\n",
    "        wsl_temp_path = temp_file_path.replace('C:\\\\', '/mnt/c/').replace('\\\\', '/')\n",
    "\n",
    "        # Run IsUnstruct\n",
    "        result = subprocess.run(['wsl', wsl_binary_path, '-long_disp', '1', '-file_save', '0', wsl_temp_path],\n",
    "                              capture_output=True, text=True, check=True)\n",
    "\n",
    "        # Extract probabilities\n",
    "        probabilities = []\n",
    "        for line in result.stdout.strip().split('\\n'):\n",
    "            if not line.startswith('#') and line.strip():\n",
    "                parts = line.strip().split()\n",
    "                if len(parts) >= 4:\n",
    "                    probabilities.append(float(parts[-1]))\n",
    "\n",
    "        return probabilities\n",
    "\n",
    "    except Exception as e:\n",
    "        print(f\"Error running IsUnstruct: {e}\")\n",
    "        return []\n",
    "    finally:\n",
    "        if os.path.exists(temp_file_path):\n",
    "            os.remove(temp_file_path)"
   ],
   "id": "248995e712d8364a",
   "outputs": [],
   "execution_count": 49
  },
  {
   "metadata": {},
   "cell_type": "markdown",
   "source": "#### Kreiranje sveobuhvatnog JSON fajla sa svim potrebnim podacima za dalju analizu",
   "id": "41ea7c9c7888202d"
  },
  {
   "metadata": {
    "ExecuteTime": {
     "end_time": "2025-09-25T11:48:49.803280Z",
     "start_time": "2025-09-25T11:48:49.791716Z"
    }
   },
   "cell_type": "code",
   "source": [
    "import json\n",
    "\n",
    "def gather_and_store_data_in_batches(verified_cds, record, batch_folder, batch_size=100, start_batch=1):\n",
    "    os.makedirs(batch_folder, exist_ok=True)\n",
    "    for batch_idx, i in enumerate(range(0, len(verified_cds), batch_size)):\n",
    "        if batch_idx + 1 < start_batch:\n",
    "            continue  # Skip until reaching the desired batch\n",
    "        batch = verified_cds[i:i+batch_size]\n",
    "        batch_data = []\n",
    "        for cds in batch:\n",
    "            try:\n",
    "                # Extract basic CDS information\n",
    "                locus_tag = cds.qualifiers.get('locus_tag', [None])[0]\n",
    "                protein_id = cds.qualifiers.get('protein_id', [None])[0]\n",
    "                gene_name = cds.qualifiers.get('gene', [None])[0]\n",
    "                product = cds.qualifiers.get('product', [None])[0]\n",
    "                translation = cds.qualifiers.get('translation', [None])[0]\n",
    "                uniprot_accession = get_cds_accession(cds)\n",
    "                extracted_cds = cds.extract(record)\n",
    "                nucleotide_seq = str(extracted_cds.seq)\n",
    "\n",
    "                # Get disorder probabilities from both algorithms\n",
    "                iupred3_probabilities = get_disorder_data_iupred3(uniprot_accession, \"long\")\n",
    "                isunstruct_probabilities = get_disorder_probabilities_isunstruct(translation)\n",
    "\n",
    "                # Create CDS data structure\n",
    "                cds_data = {\n",
    "                    \"locus_tag\": locus_tag,\n",
    "                    \"protein_id\": protein_id,\n",
    "                    \"gene_name\": gene_name,\n",
    "                    \"product\": product,\n",
    "                    \"uniprot_accession\": uniprot_accession,\n",
    "                    \"location\": {\n",
    "                        \"start\": int(cds.location.start),\n",
    "                        \"end\": int(cds.location.end),\n",
    "                        \"strand\": cds.location.strand\n",
    "                    },\n",
    "                    \"sequences\": {\n",
    "                        \"nucleotide\": nucleotide_seq,\n",
    "                        \"amino_acid\": translation,\n",
    "                        \"length_nt\": len(nucleotide_seq),\n",
    "                        \"length_aa\": len(translation)\n",
    "                    },\n",
    "                    \"disorder_analysis\": {\n",
    "                        \"iupred3\": {\n",
    "                            \"probabilities\": iupred3_probabilities,\n",
    "                            \"available\": len(iupred3_probabilities) > 0,\n",
    "                            \"disorder_count\": sum(1 for p in iupred3_probabilities if p > 0.5) if iupred3_probabilities else 0,\n",
    "                            \"disorder_percentage\": round((sum(1 for p in iupred3_probabilities if p > 0.5) / len(iupred3_probabilities) * 100), 2) if iupred3_probabilities else 0\n",
    "                        },\n",
    "                        \"isunstruct\": {\n",
    "                            \"probabilities\": isunstruct_probabilities,\n",
    "                            \"available\": len(isunstruct_probabilities) > 0,\n",
    "                            \"disorder_count\": sum(1 for p in isunstruct_probabilities if p > 0.5) if isunstruct_probabilities else 0,\n",
    "                            \"disorder_percentage\": round((sum(1 for p in isunstruct_probabilities if p > 0.5) / len(isunstruct_probabilities) * 100), 2) if isunstruct_probabilities else 0\n",
    "                        }\n",
    "                    }\n",
    "                }\n",
    "                batch_data.append(cds_data)\n",
    "\n",
    "            except Exception as e:\n",
    "                print(f\"Neuspešno procesuiran CDS {locus_tag}: {e}\")\n",
    "                continue\n",
    "\n",
    "        # Save batch\n",
    "        batch_file = os.path.join(batch_folder, f\"batch_{batch_idx+1}.json\")\n",
    "        with open(batch_file, 'w') as f:\n",
    "            json.dump(batch_data, f, indent=2)\n",
    "        print(f\"Sačuvan {batch_file}\")\n"
   ],
   "id": "7e333b8ba7e6ba53",
   "outputs": [],
   "execution_count": 60
  },
  {
   "metadata": {
    "ExecuteTime": {
     "end_time": "2025-09-25T11:48:50.845981Z",
     "start_time": "2025-09-25T11:48:50.839577Z"
    }
   },
   "cell_type": "code",
   "source": [
    "from datetime import datetime\n",
    "\n",
    "def merge_batches(batch_folder, final_output_file, verified_cds):\n",
    "    all_cds = []\n",
    "    batch_files = sorted([os.path.join(batch_folder, f) for f in os.listdir(batch_folder) if f.endswith('.json')])\n",
    "    for batch_file in batch_files:\n",
    "        with open(batch_file) as f:\n",
    "            all_cds.extend(json.load(f))\n",
    "    metadata = {\n",
    "        \"genome_accession\": \"NC_000913.3\",\n",
    "        \"total_cds_count\": len(verified_cds),\n",
    "        \"created_at\": datetime.now().isoformat(),\n",
    "        \"algorithms_used\": [\"IUPred3\", \"IsUnstruct\"],\n",
    "        \"processed_count\": len(all_cds),\n",
    "        \"failed_count\": len(verified_cds) - len(all_cds)\n",
    "    }\n",
    "    final_data = {\n",
    "        \"metadata\": metadata,\n",
    "        \"CDS\": all_cds\n",
    "    }\n",
    "    with open(final_output_file, 'w') as f:\n",
    "        json.dump(final_data, f, indent=2)\n",
    "    print(f\"\\n=== Finalni JSON Kreiran ===\")\n",
    "    print(f\"Uspešno procesuirano: {metadata['processed_count']} CDS-ova\")\n",
    "    print(f\"Neuspelo: {metadata['failed_count']} CDS-ova\")\n",
    "    print(f\"Izlazni fajl: {final_output_file}\")\n",
    "    print(f\"Veličina fajla: {os.path.getsize(final_output_file) / (1024*1024):.2f} MB\")"
   ],
   "id": "334328baa8254eef",
   "outputs": [],
   "execution_count": 61
  },
  {
   "metadata": {
    "jupyter": {
     "is_executing": true
    },
    "ExecuteTime": {
     "start_time": "2025-09-25T11:51:53.266071Z"
    }
   },
   "cell_type": "code",
   "source": [
    "batch_folder = 'data/batches'\n",
    "data_to_process = verified_cds\n",
    "gather_and_store_data_in_batches(data_to_process, record, batch_folder, batch_size=100)\n",
    "merge_batches(batch_folder, 'data/final_cds_data.json', data_to_process)"
   ],
   "id": "8cd1e12094f80db0",
   "outputs": [
    {
     "name": "stdout",
     "output_type": "stream",
     "text": [
      "Request error for P0DPM5: 500 Server Error:  for url: https://iupred3.elte.hu/iupred3/long/P0DPM5.json\n",
      "Sačuvan data/batches\\batch_1.json\n",
      "Request error for P0DPM6: 500 Server Error:  for url: https://iupred3.elte.hu/iupred3/long/P0DPM6.json\n",
      "Request error for P0DSE3: 500 Server Error:  for url: https://iupred3.elte.hu/iupred3/long/P0DSE3.json\n",
      "Sačuvan data/batches\\batch_2.json\n",
      "Request error for P0DUW0: 500 Server Error:  for url: https://iupred3.elte.hu/iupred3/long/P0DUW0.json\n",
      "Sačuvan data/batches\\batch_3.json\n",
      "Request error for P0DSE5: 500 Server Error:  for url: https://iupred3.elte.hu/iupred3/long/P0DSE5.json\n",
      "Sačuvan data/batches\\batch_4.json\n",
      "Sačuvan data/batches\\batch_5.json\n",
      "Sačuvan data/batches\\batch_6.json\n",
      "Request error for P0DSE6: 500 Server Error:  for url: https://iupred3.elte.hu/iupred3/long/P0DSE6.json\n",
      "Sačuvan data/batches\\batch_7.json\n"
     ]
    }
   ],
   "execution_count": null
  },
  {
   "metadata": {},
   "cell_type": "code",
   "outputs": [],
   "execution_count": null,
   "source": "",
   "id": "e2473a3a2139da82"
  }
 ],
 "metadata": {
  "kernelspec": {
   "display_name": "Python 3",
   "language": "python",
   "name": "python3"
  },
  "language_info": {
   "codemirror_mode": {
    "name": "ipython",
    "version": 2
   },
   "file_extension": ".py",
   "mimetype": "text/x-python",
   "name": "python",
   "nbconvert_exporter": "python",
   "pygments_lexer": "ipython2",
   "version": "2.7.6"
  }
 },
 "nbformat": 4,
 "nbformat_minor": 5
}
